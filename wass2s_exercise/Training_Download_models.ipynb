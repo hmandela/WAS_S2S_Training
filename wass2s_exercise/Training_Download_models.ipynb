{
 "cells": [
  {
   "cell_type": "markdown",
   "id": "b5464071-1bdd-4b36-8a12-739c626bc6aa",
   "metadata": {
    "editable": false,
    "slideshow": {
     "slide_type": ""
    },
    "tags": []
   },
   "source": [
    "##### <p style=\"text-align: center;\"> ![alt text](utilities/cilss.png)</p>\n",
    "# <p style=\"text-align: center;\">AGHRYMET RCC-WAS</p>\n",
    "#### &copy; Mandela HOUNGNIBO 2024 (Find more [here](https://github.com/hmandela))"
   ]
  },
  {
   "cell_type": "markdown",
   "id": "a0b471e5-e5c4-4d15-91de-dc444bed5762",
   "metadata": {
    "editable": false,
    "slideshow": {
     "slide_type": ""
    },
    "tags": []
   },
   "source": [
    "## Library"
   ]
  },
  {
   "cell_type": "code",
   "execution_count": 1,
   "id": "35ba7d3e-df6f-4b93-9ccf-9794f84ad486",
   "metadata": {
    "editable": false,
    "slideshow": {
     "slide_type": ""
    },
    "tags": []
   },
   "outputs": [],
   "source": [
    "from wass2s import *\n",
    "import importlib\n",
    "from pathlib import Path\n",
    "import warnings\n",
    "import gc\n",
    "warnings.filterwarnings(\"ignore\")"
   ]
  },
  {
   "cell_type": "markdown",
   "id": "4c17a853-5f38-4b42-9ed8-517a02ec1a88",
   "metadata": {
    "editable": false,
    "slideshow": {
     "slide_type": ""
    },
    "tags": []
   },
   "source": [
    "#### Set forecast working directory"
   ]
  },
  {
   "cell_type": "code",
   "execution_count": 2,
   "id": "75de140d-e848-43a8-949f-0f6030124760",
   "metadata": {
    "editable": true,
    "slideshow": {
     "slide_type": ""
    },
    "tags": []
   },
   "outputs": [],
   "source": [
    "# Set forecast working directory\n",
    "dir_s2s = \"./JAS_2025_ic_5/\""
   ]
  },
  {
   "cell_type": "code",
   "execution_count": 3,
   "id": "92679f6b-b137-4220-954d-5b18fda1732f",
   "metadata": {
    "slideshow": {
     "slide_type": ""
    },
    "tags": []
   },
   "outputs": [],
   "source": [
    "dir_s2s = Path(dir_s2s)\n",
    "os.makedirs(dir_s2s, exist_ok=True)"
   ]
  },
  {
   "cell_type": "code",
   "execution_count": 17,
   "id": "d75bb9f2-6dc8-4a96-bbd9-93757476605d",
   "metadata": {
    "editable": true,
    "slideshow": {
     "slide_type": ""
    },
    "tags": []
   },
   "outputs": [],
   "source": [
    "# Filter model names to identify precipitation-related models\n",
    "center_variable = [key for key in downloader.ModelsName().keys() if \"PRCP\" in key]\n",
    "center_variable.remove('UKMO_603.PRCP')\n",
    "center_variable.remove('DWD_21.PRCP')\n",
    "center_variable.remove('METEOFRANCE_8.PRCP')\n",
    "# Specify the directory to save downloaded model data\n",
    "dir_to_save_model = f\"{dir_s2s}/model_data\"\n",
    "\n",
    "# Define the month for model initialization (June)\n",
    "month_of_initialization = \"05\"\n",
    "\n",
    "# Define lead times corresponding to seasonal forecast targets (JAS season in this case)\n",
    "lead_time = [\"02\", \"03\", \"04\"]  # July-August-September forecast period\n",
    "\n",
    "# Define the hindcast period for model data (years 1993 to 2016)\n",
    "year_start_model = 1993\n",
    "year_end_model = 2016\n",
    "\n",
    "# Set the bounding box for the area of interest (latitude and longitude bounds)\n",
    "extent = [21, -26, 4, 25] # [Northern, Western, Southern and Eastern] \n",
    "\n",
    "# Define if you want to download forecast or hindcast\n",
    "forecast = None\n",
    "\n",
    "# Define if you want all members of ensemble or doing an ensemble mean\n",
    "ensemble_mean = \"mean\"\n",
    "\n",
    "# Specify whether to overwrite existing files when downloading data\n",
    "force_download = False"
   ]
  },
  {
   "cell_type": "code",
   "execution_count": 18,
   "id": "ab401dc3-a7c1-4a58-8b78-017b8f0a3e98",
   "metadata": {
    "editable": false,
    "scrolled": true,
    "slideshow": {
     "slide_type": ""
    },
    "tags": []
   },
   "outputs": [
    {
     "name": "stdout",
     "output_type": "stream",
     "text": [
      "JAS_2025_ic_5/model_data/hindcast_bom2_PRCP_MayIc_JulAugSep_02.nc already exists. Skipping download.\n",
      "JAS_2025_ic_5/model_data/hindcast_ecmwf51_PRCP_MayIc_JulAugSep_02.nc already exists. Skipping download.\n",
      "JAS_2025_ic_5/model_data/hindcast_ukmo604_PRCP_MayIc_JulAugSep_02.nc already exists. Skipping download.\n",
      "JAS_2025_ic_5/model_data/hindcast_meteofrance9_PRCP_MayIc_JulAugSep_02.nc already exists. Skipping download.\n",
      "JAS_2025_ic_5/model_data/hindcast_dwd22_PRCP_MayIc_JulAugSep_02.nc already exists. Skipping download.\n",
      "JAS_2025_ic_5/model_data/hindcast_cmcc35_PRCP_MayIc_JulAugSep_02.nc already exists. Skipping download.\n",
      "JAS_2025_ic_5/model_data/hindcast_ncep2_PRCP_MayIc_JulAugSep_02.nc already exists. Skipping download.\n",
      "JAS_2025_ic_5/model_data/hindcast_jma3_PRCP_MayIc_JulAugSep_02.nc already exists. Skipping download.\n",
      "JAS_2025_ic_5/model_data/hindcast_eccc4_PRCP_MayIc_JulAugSep_02.nc already exists. Skipping download.\n",
      "JAS_2025_ic_5/model_data/hindcast_eccc5_PRCP_MayIc_JulAugSep_02.nc already exists. Skipping download.\n",
      "JAS_2025_ic_5/model_data/hindcast_cfsv21_PRCP_MayIc_JulAugSep_02.nc already exists. Skipping download.\n",
      "JAS_2025_ic_5/model_data/hindcast_cmc11_PRCP_MayIc_JulAugSep_02.nc already exists. Skipping download.\n",
      "JAS_2025_ic_5/model_data/hindcast_cmc21_PRCP_MayIc_JulAugSep_02.nc already exists. Skipping download.\n",
      "JAS_2025_ic_5/model_data/hindcast_gfdl1_PRCP_MayIc_JulAugSep_02.nc already exists. Skipping download.\n",
      "JAS_2025_ic_5/model_data/hindcast_nasa1_PRCP_MayIc_JulAugSep_02.nc already exists. Skipping download.\n",
      "JAS_2025_ic_5/model_data/hindcast_ncarccsm41_PRCP_MayIc_JulAugSep_02.nc already exists. Skipping download.\n",
      "JAS_2025_ic_5/model_data/hindcast_nmme1_PRCP_MayIc_JulAugSep_02.nc already exists. Skipping download.\n"
     ]
    }
   ],
   "source": [
    "hindcast_files = downloader.WAS_Download_Models(\n",
    "    dir_to_save_model,\n",
    "    center_variable,\n",
    "    month_of_initialization,\n",
    "    lead_time,\n",
    "    year_start_model,\n",
    "    year_end_model,\n",
    "    extent, \n",
    "    forecast,\n",
    "    ensemble_mean,\n",
    "    force_download)"
   ]
  },
  {
   "cell_type": "code",
   "execution_count": 19,
   "id": "c9e7e9d2-c4c7-421e-bdca-f329497f15ce",
   "metadata": {
    "editable": true,
    "slideshow": {
     "slide_type": ""
    },
    "tags": []
   },
   "outputs": [],
   "source": [
    "forecast = 2025"
   ]
  },
  {
   "cell_type": "code",
   "execution_count": 20,
   "id": "ded8ccec-76ad-4026-8dd9-c43f1887079c",
   "metadata": {
    "editable": false,
    "raw_mimetype": "",
    "scrolled": true,
    "slideshow": {
     "slide_type": ""
    },
    "tags": []
   },
   "outputs": [
    {
     "name": "stdout",
     "output_type": "stream",
     "text": [
      "JAS_2025_ic_5/model_data/forecast_bom2_PRCP_MayIc_JulAugSep_02.nc already exists. Skipping download.\n",
      "JAS_2025_ic_5/model_data/forecast_ecmwf51_PRCP_MayIc_JulAugSep_02.nc already exists. Skipping download.\n",
      "JAS_2025_ic_5/model_data/forecast_ukmo604_PRCP_MayIc_JulAugSep_02.nc already exists. Skipping download.\n",
      "JAS_2025_ic_5/model_data/forecast_meteofrance9_PRCP_MayIc_JulAugSep_02.nc already exists. Skipping download.\n",
      "JAS_2025_ic_5/model_data/forecast_dwd22_PRCP_MayIc_JulAugSep_02.nc already exists. Skipping download.\n",
      "JAS_2025_ic_5/model_data/forecast_cmcc35_PRCP_MayIc_JulAugSep_02.nc already exists. Skipping download.\n",
      "JAS_2025_ic_5/model_data/forecast_ncep2_PRCP_MayIc_JulAugSep_02.nc already exists. Skipping download.\n",
      "JAS_2025_ic_5/model_data/forecast_jma3_PRCP_MayIc_JulAugSep_02.nc already exists. Skipping download.\n",
      "JAS_2025_ic_5/model_data/forecast_eccc4_PRCP_MayIc_JulAugSep_02.nc already exists. Skipping download.\n",
      "JAS_2025_ic_5/model_data/forecast_eccc5_PRCP_MayIc_JulAugSep_02.nc already exists. Skipping download.\n",
      "JAS_2025_ic_5/model_data/forecast_cfsv21_PRCP_MayIc_JulAugSep_02.nc already exists. Skipping download.\n",
      "JAS_2025_ic_5/model_data/forecast_cmc11_PRCP_MayIc_JulAugSep_02.nc already exists. Skipping download.\n",
      "JAS_2025_ic_5/model_data/forecast_cmc21_PRCP_MayIc_JulAugSep_02.nc already exists. Skipping download.\n",
      "JAS_2025_ic_5/model_data/forecast_gfdl1_PRCP_MayIc_JulAugSep_02.nc already exists. Skipping download.\n",
      "JAS_2025_ic_5/model_data/forecast_nasa1_PRCP_MayIc_JulAugSep_02.nc already exists. Skipping download.\n",
      "JAS_2025_ic_5/model_data/forecast_ncarccsm41_PRCP_MayIc_JulAugSep_02.nc already exists. Skipping download.\n",
      "JAS_2025_ic_5/model_data/forecast_nmme1_PRCP_MayIc_JulAugSep_02.nc already exists. Skipping download.\n"
     ]
    }
   ],
   "source": [
    "forecast_files = downloader.WAS_Download_Models(\n",
    "    dir_to_save_model,\n",
    "    center_variable,\n",
    "    month_of_initialization,\n",
    "    lead_time,\n",
    "    year_start_model,\n",
    "    year_end_model,\n",
    "    extent, \n",
    "    forecast,\n",
    "    ensemble_mean,\n",
    "    force_download)"
   ]
  }
 ],
 "metadata": {
  "kernelspec": {
   "display_name": "Python 3 (ipykernel)",
   "language": "python",
   "name": "python3"
  },
  "language_info": {
   "codemirror_mode": {
    "name": "ipython",
    "version": 3
   },
   "file_extension": ".py",
   "mimetype": "text/x-python",
   "name": "python",
   "nbconvert_exporter": "python",
   "pygments_lexer": "ipython3",
   "version": "3.12.5"
  },
  "toc": {
   "base_numbering": 4
  }
 },
 "nbformat": 4,
 "nbformat_minor": 5
}
